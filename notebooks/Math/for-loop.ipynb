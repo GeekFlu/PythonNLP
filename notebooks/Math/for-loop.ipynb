{
 "cells": [
  {
   "cell_type": "markdown",
   "metadata": {
    "collapsed": true,
    "pycharm": {
     "name": "#%% md\n"
    }
   },
   "source": [
    "# Iterations"
   ]
  },
  {
   "cell_type": "code",
   "execution_count": 1,
   "metadata": {
    "pycharm": {
     "name": "#%%\n"
    }
   },
   "outputs": [
    {
     "name": "stdout",
     "output_type": "stream",
     "text": [
      "0\n",
      "1\n",
      "2\n",
      "3\n",
      "4\n",
      "5\n",
      "6\n"
     ]
    }
   ],
   "source": [
    "for i in range(7):\n",
    "    print(i)\n"
   ]
  },
  {
   "cell_type": "code",
   "execution_count": 2,
   "metadata": {
    "pycharm": {
     "name": "#%%\n"
    }
   },
   "outputs": [
    {
     "data": {
      "text/plain": [
       "[0, 1, 2, 3, 4, 5, 6]"
      ]
     },
     "execution_count": 2,
     "metadata": {},
     "output_type": "execute_result"
    }
   ],
   "source": [
    "list(range(7))"
   ]
  },
  {
   "cell_type": "code",
   "execution_count": 10,
   "metadata": {
    "pycharm": {
     "name": "#%%\n"
    }
   },
   "outputs": [],
   "source": [
    "def power_and_print(base, power):\n",
    "    for step in range(power + 1):\n",
    "        print(f\"{base} to the power of {step} is {base ** step}\")"
   ]
  },
  {
   "cell_type": "code",
   "execution_count": 11,
   "metadata": {
    "pycharm": {
     "name": "#%%\n"
    }
   },
   "outputs": [
    {
     "name": "stdout",
     "output_type": "stream",
     "text": [
      "2 to the power of 0 is 1\n",
      "2 to the power of 1 is 2\n",
      "2 to the power of 2 is 4\n",
      "2 to the power of 3 is 8\n",
      "2 to the power of 4 is 16\n",
      "2 to the power of 5 is 32\n",
      "2 to the power of 6 is 64\n",
      "2 to the power of 7 is 128\n",
      "2 to the power of 8 is 256\n",
      "2 to the power of 9 is 512\n",
      "2 to the power of 10 is 1024\n"
     ]
    }
   ],
   "source": [
    "power_and_print(2, 10)"
   ]
  },
  {
   "cell_type": "code",
   "execution_count": 12,
   "metadata": {
    "pycharm": {
     "name": "#%%\n"
    }
   },
   "outputs": [
    {
     "name": "stdout",
     "output_type": "stream",
     "text": [
      "5 to the power of 0 is 1\n",
      "5 to the power of 1 is 5\n",
      "5 to the power of 2 is 25\n",
      "5 to the power of 3 is 125\n",
      "5 to the power of 4 is 625\n",
      "5 to the power of 5 is 3125\n",
      "5 to the power of 6 is 15625\n",
      "5 to the power of 7 is 78125\n",
      "5 to the power of 8 is 390625\n",
      "5 to the power of 9 is 1953125\n",
      "5 to the power of 10 is 9765625\n",
      "5 to the power of 11 is 48828125\n",
      "5 to the power of 12 is 244140625\n",
      "5 to the power of 13 is 1220703125\n",
      "5 to the power of 14 is 6103515625\n",
      "5 to the power of 15 is 30517578125\n",
      "5 to the power of 16 is 152587890625\n",
      "5 to the power of 17 is 762939453125\n",
      "5 to the power of 18 is 3814697265625\n",
      "5 to the power of 19 is 19073486328125\n",
      "5 to the power of 20 is 95367431640625\n"
     ]
    }
   ],
   "source": [
    "power_and_print(5, 20)"
   ]
  },
  {
   "cell_type": "code",
   "execution_count": 18,
   "metadata": {
    "pycharm": {
     "name": "#%%\n"
    }
   },
   "outputs": [],
   "source": [
    "from IPython.display import display, Math"
   ]
  },
  {
   "cell_type": "code",
   "execution_count": 24,
   "metadata": {
    "pycharm": {
     "name": "#%%\n"
    }
   },
   "outputs": [],
   "source": [
    "def division(x, y):\n",
    "    display(Math(\"\\\\frac{%g}{%g} = %g\" % (x, y, x/y)))"
   ]
  },
  {
   "cell_type": "code",
   "execution_count": 21,
   "metadata": {
    "pycharm": {
     "name": "#%%\n"
    }
   },
   "outputs": [],
   "source": [
    "def powers(base, power):\n",
    "    display(Math(\"%g ^ %g = %g\" % (base, power, base ** power)))\n",
    "\n",
    "def main_function():\n",
    "    # get inout user\n",
    "    x = float(input(\"Input x: \"))\n",
    "    y = float(input(\"Input y: \"))\n",
    "\n",
    "    display(Math('\\\\text{Press \"1\" to compute } %g ^ {%g}' % (x, y)))\n",
    "    display(Math('\\\\text{Press \"2\" to compute }\\\\frac{%g}{%g}' % (x, y)))\n",
    "\n",
    "    choice = input(' ')\n",
    "\n",
    "    if choice == '1':\n",
    "        powers(x, y)\n",
    "    elif choice == '2':\n",
    "        division(x, y)\n",
    "    else:\n",
    "        display('Invalid Selection')"
   ]
  },
  {
   "cell_type": "code",
   "execution_count": 26,
   "metadata": {
    "pycharm": {
     "name": "#%%\n"
    }
   },
   "outputs": [
    {
     "data": {
      "text/latex": [
       "$\\displaystyle \\text{Press \"1\" to compute } 1 ^ {1}$"
      ],
      "text/plain": [
       "<IPython.core.display.Math object>"
      ]
     },
     "metadata": {},
     "output_type": "display_data"
    },
    {
     "data": {
      "text/latex": [
       "$\\displaystyle \\text{Press \"2\" to compute }\\frac{1}{1}$"
      ],
      "text/plain": [
       "<IPython.core.display.Math object>"
      ]
     },
     "metadata": {},
     "output_type": "display_data"
    },
    {
     "data": {
      "text/latex": [
       "$\\displaystyle \\frac{1}{1} = 1$"
      ],
      "text/plain": [
       "<IPython.core.display.Math object>"
      ]
     },
     "metadata": {},
     "output_type": "display_data"
    }
   ],
   "source": [
    "main_function()"
   ]
  },
  {
   "cell_type": "code",
   "execution_count": 27,
   "metadata": {
    "pycharm": {
     "name": "#%%\n"
    }
   },
   "outputs": [],
   "source": [
    "import random"
   ]
  },
  {
   "cell_type": "code",
   "execution_count": 39,
   "metadata": {
    "pycharm": {
     "name": "#%%\n"
    }
   },
   "outputs": [],
   "source": [
    "def guess_number():\n",
    "    guess = random.randint(1, 101)\n",
    "    while True:\n",
    "        user_guess = int(input('Guess a number:'))\n",
    "\n",
    "        if user_guess < guess:\n",
    "            display(Math(\"\\\\text{Guess Higher, your guess %g}\" % user_guess))\n",
    "        elif user_guess > guess:\n",
    "            display(Math(\"\\\\text{Guess Lower, your guess %g}\" % user_guess))\n",
    "        else:\n",
    "            display(Math(\"\\\\text{Got it! dude!, The guessed number was: %g}\" % guess))\n",
    "            break"
   ]
  },
  {
   "cell_type": "code",
   "execution_count": 40,
   "metadata": {
    "pycharm": {
     "name": "#%%\n"
    }
   },
   "outputs": [
    {
     "name": "stdout",
     "output_type": "stream",
     "text": [
      "Guess a number:70\n"
     ]
    },
    {
     "data": {
      "text/latex": [
       "$\\displaystyle \\text{Guess Lower, your guess 70}$"
      ],
      "text/plain": [
       "<IPython.core.display.Math object>"
      ]
     },
     "metadata": {},
     "output_type": "display_data"
    },
    {
     "name": "stdout",
     "output_type": "stream",
     "text": [
      "Guess a number:40\n"
     ]
    },
    {
     "data": {
      "text/latex": [
       "$\\displaystyle \\text{Guess Lower, your guess 40}$"
      ],
      "text/plain": [
       "<IPython.core.display.Math object>"
      ]
     },
     "metadata": {},
     "output_type": "display_data"
    },
    {
     "name": "stdout",
     "output_type": "stream",
     "text": [
      "Guess a number:25\n"
     ]
    },
    {
     "data": {
      "text/latex": [
       "$\\displaystyle \\text{Guess Higher, your guess 25}$"
      ],
      "text/plain": [
       "<IPython.core.display.Math object>"
      ]
     },
     "metadata": {},
     "output_type": "display_data"
    },
    {
     "name": "stdout",
     "output_type": "stream",
     "text": [
      "Guess a number:35\n"
     ]
    },
    {
     "data": {
      "text/latex": [
       "$\\displaystyle \\text{Guess Lower, your guess 35}$"
      ],
      "text/plain": [
       "<IPython.core.display.Math object>"
      ]
     },
     "metadata": {},
     "output_type": "display_data"
    },
    {
     "name": "stdout",
     "output_type": "stream",
     "text": [
      "Guess a number:30\n"
     ]
    },
    {
     "data": {
      "text/latex": [
       "$\\displaystyle \\text{Guess Higher, your guess 30}$"
      ],
      "text/plain": [
       "<IPython.core.display.Math object>"
      ]
     },
     "metadata": {},
     "output_type": "display_data"
    },
    {
     "name": "stdout",
     "output_type": "stream",
     "text": [
      "Guess a number:31\n"
     ]
    },
    {
     "data": {
      "text/latex": [
       "$\\displaystyle \\text{Got it! dude!, The guessed number was: 31}$"
      ],
      "text/plain": [
       "<IPython.core.display.Math object>"
      ]
     },
     "metadata": {},
     "output_type": "display_data"
    }
   ],
   "source": [
    "guess_number()"
   ]
  }
 ],
 "metadata": {
  "kernelspec": {
   "display_name": "Python 3",
   "language": "python",
   "name": "python3"
  },
  "language_info": {
   "codemirror_mode": {
    "name": "ipython",
    "version": 3
   },
   "file_extension": ".py",
   "mimetype": "text/x-python",
   "name": "python",
   "nbconvert_exporter": "python",
   "pygments_lexer": "ipython3",
   "version": "3.8.5"
  }
 },
 "nbformat": 4,
 "nbformat_minor": 1
}