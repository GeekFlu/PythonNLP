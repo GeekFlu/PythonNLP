{
 "cells": [
  {
   "cell_type": "markdown",
   "source": [
    "# spaCy Basics\n",
    "\n",
    "**spaCy** (https://spacy.io/) is an open-source Python library that parses and \"understands\" large volumes of text. Separate models are available that cater to specific languages (English, French, German, etc.).\n",
    "\n",
    "In this section we'll install and setup spaCy to work with Python, and then introduce some concepts related to Natural Language Processing."
   ],
   "metadata": {
    "collapsed": false
   }
  },
  {
   "cell_type": "code",
   "execution_count": 1,
   "metadata": {
    "collapsed": true
   },
   "outputs": [],
   "source": [
    "import spacy"
   ]
  },
  {
   "cell_type": "code",
   "execution_count": 2,
   "outputs": [],
   "source": [
    "nlp = spacy.load('en_core_web_sm')"
   ],
   "metadata": {
    "collapsed": false,
    "pycharm": {
     "name": "#%%\n"
    }
   }
  },
  {
   "cell_type": "code",
   "execution_count": 3,
   "outputs": [],
   "source": [
    "doc = nlp(u'Tesla is looking at buying U.S. startup for $7 million')"
   ],
   "metadata": {
    "collapsed": false,
    "pycharm": {
     "name": "#%%\n"
    }
   }
  },
  {
   "cell_type": "code",
   "execution_count": 4,
   "outputs": [
    {
     "name": "stdout",
     "output_type": "stream",
     "text": [
      "Tesla 96 PROPN\n",
      "is 87 AUX\n",
      "looking 100 VERB\n",
      "at 85 ADP\n",
      "buying 100 VERB\n",
      "U.S. 96 PROPN\n",
      "startup 92 NOUN\n",
      "for 85 ADP\n",
      "$ 99 SYM\n",
      "7 93 NUM\n",
      "million 93 NUM\n"
     ]
    }
   ],
   "source": [
    "for token in doc:\n",
    "    print(token.text, token.pos, token.pos_)"
   ],
   "metadata": {
    "collapsed": false,
    "pycharm": {
     "name": "#%%\n"
    }
   }
  },
  {
   "cell_type": "code",
   "execution_count": 5,
   "outputs": [
    {
     "data": {
      "text/plain": "[('tagger', <spacy.pipeline.pipes.Tagger at 0x7f32a53ad6d0>),\n ('parser', <spacy.pipeline.pipes.DependencyParser at 0x7f32a550bd00>),\n ('ner', <spacy.pipeline.pipes.EntityRecognizer at 0x7f32a550bca0>)]"
     },
     "execution_count": 5,
     "metadata": {},
     "output_type": "execute_result"
    }
   ],
   "source": [
    "nlp.pipeline"
   ],
   "metadata": {
    "collapsed": false,
    "pycharm": {
     "name": "#%%\n"
    }
   }
  },
  {
   "cell_type": "code",
   "execution_count": 6,
   "outputs": [
    {
     "data": {
      "text/plain": "['tagger', 'parser', 'ner']"
     },
     "execution_count": 6,
     "metadata": {},
     "output_type": "execute_result"
    }
   ],
   "source": [
    "nlp.pipe_names"
   ],
   "metadata": {
    "collapsed": false,
    "pycharm": {
     "name": "#%%\n"
    }
   }
  },
  {
   "cell_type": "code",
   "execution_count": 7,
   "outputs": [
    {
     "data": {
      "text/plain": "OrderedDict([('tagger',\n              ['$',\n               \"''\",\n               ',',\n               '-LRB-',\n               '-RRB-',\n               '.',\n               ':',\n               'ADD',\n               'AFX',\n               'CC',\n               'CD',\n               'DT',\n               'EX',\n               'FW',\n               'HYPH',\n               'IN',\n               'JJ',\n               'JJR',\n               'JJS',\n               'LS',\n               'MD',\n               'NFP',\n               'NN',\n               'NNP',\n               'NNPS',\n               'NNS',\n               'PDT',\n               'POS',\n               'PRP',\n               'PRP$',\n               'RB',\n               'RBR',\n               'RBS',\n               'RP',\n               'SYM',\n               'TO',\n               'UH',\n               'VB',\n               'VBD',\n               'VBG',\n               'VBN',\n               'VBP',\n               'VBZ',\n               'WDT',\n               'WP',\n               'WP$',\n               'WRB',\n               'XX',\n               '_SP',\n               '``']),\n             ('parser',\n              ['ROOT',\n               'acl',\n               'acomp',\n               'advcl',\n               'advmod',\n               'agent',\n               'amod',\n               'appos',\n               'attr',\n               'aux',\n               'auxpass',\n               'case',\n               'cc',\n               'ccomp',\n               'compound',\n               'conj',\n               'csubj',\n               'csubjpass',\n               'dative',\n               'dep',\n               'det',\n               'dobj',\n               'expl',\n               'intj',\n               'mark',\n               'meta',\n               'neg',\n               'nmod',\n               'npadvmod',\n               'nsubj',\n               'nsubjpass',\n               'nummod',\n               'oprd',\n               'parataxis',\n               'pcomp',\n               'pobj',\n               'poss',\n               'preconj',\n               'predet',\n               'prep',\n               'prt',\n               'punct',\n               'quantmod',\n               'relcl',\n               'xcomp']),\n             ('ner',\n              ['CARDINAL',\n               'DATE',\n               'EVENT',\n               'FAC',\n               'GPE',\n               'LANGUAGE',\n               'LAW',\n               'LOC',\n               'MONEY',\n               'NORP',\n               'ORDINAL',\n               'ORG',\n               'PERCENT',\n               'PERSON',\n               'PRODUCT',\n               'QUANTITY',\n               'TIME',\n               'WORK_OF_ART'])])"
     },
     "execution_count": 7,
     "metadata": {},
     "output_type": "execute_result"
    }
   ],
   "source": [
    "nlp.pipe_labels"
   ],
   "metadata": {
    "collapsed": false,
    "pycharm": {
     "name": "#%%\n"
    }
   }
  },
  {
   "cell_type": "markdown",
   "source": [
    "# Ahora aplicaremos estos ejemplos para el español"
   ],
   "metadata": {
    "collapsed": false,
    "pycharm": {
     "name": "#%% md\n"
    }
   }
  },
  {
   "cell_type": "code",
   "execution_count": 8,
   "outputs": [],
   "source": [
    "import es_core_news_sm\n",
    "nlp_es = es_core_news_sm.load()"
   ],
   "metadata": {
    "collapsed": false,
    "pycharm": {
     "name": "#%%\n"
    }
   }
  },
  {
   "cell_type": "code",
   "execution_count": 10,
   "outputs": [
    {
     "name": "stdout",
     "output_type": "stream",
     "text": [
      "[('Cómo', 'PRON'), ('ser', 'VERB'), ('más', 'ADV'), ('productivo', 'ADJ'), ('es', 'AUX'), ('algo', 'PRON'), ('que', 'SCONJ'), ('seguro', 'ADV'), ('te', 'PRON'), ('has', 'AUX'), ('planteado', 'VERB'), ('si', 'SCONJ'), ('valoras', 'NOUN'), ('tu', 'DET'), ('tiempo', 'NOUN'), ('y', 'CCONJ'), ('quieres', 'NOUN'), ('aprovecharlo', 'VERB'), ('al', 'ADP'), ('100%', 'SYM'), ('.', 'PUNCT'), ('Puede', 'VERB'), ('que', 'SCONJ'), ('muchas', 'DET'), ('veces', 'NOUN'), ('te', 'PRON'), ('veas', 'VERB'), ('saturado', 'ADJ'), ('por', 'ADP'), ('la', 'DET'), ('cantidad', 'NOUN'), ('de', 'ADP'), ('tareas', 'NOUN'), ('que', 'SCONJ'), ('se', 'PRON'), ('te', 'PRON'), ('acumulan', 'AUX'), ('en', 'ADP'), ('el', 'DET'), ('día', 'NOUN'), ('a', 'ADP'), ('día', 'NOUN'), ('y', 'CCONJ'), ('no', 'ADV'), ('sepas', 'VERB'), ('por', 'ADP'), ('donde', 'PRON'), ('empezar', 'VERB'), ('.', 'PUNCT'), ('A', 'ADP'), ('veces', 'INTJ'), ('incluso', 'ADV'), ('sientes', 'ADJ'), ('que', 'SCONJ'), ('no', 'ADV'), ('avanzas', 'NOUN'), ('y', 'CCONJ'), ('cada', 'DET'), ('vez', 'NOUN'), ('te', 'PRON'), ('agobias', 'VERB'), ('más', 'ADV'), ('.', 'PUNCT'), ('Por', 'ADP'), ('eso', 'PRON'), ('estás', 'AUX'), ('decidido', 'ADJ'), ('a', 'ADP'), ('aprender', 'VERB'), ('de', 'ADP'), ('productividad', 'NOUN'), ('y', 'CCONJ'), ('mejorar', 'VERB'), ('esa', 'DET'), ('faceta', 'NOUN'), ('de', 'ADP'), ('tu', 'DET'), ('vida', 'NOUN'), ('profesional', 'ADJ'), ('.', 'PUNCT')]\n"
     ]
    }
   ],
   "source": [
    "doc = nlp_es(\"Cómo ser más productivo es algo que seguro te has planteado si valoras tu tiempo y quieres aprovecharlo al 100%. Puede que muchas veces te veas saturado por la cantidad de tareas que se te acumulan en el día a día y no sepas por donde empezar. A veces incluso sientes que no avanzas y cada vez te agobias más. Por eso estás decidido a aprender de productividad y mejorar esa faceta de tu vida profesional.\")\n",
    "print([(w.text, w.pos_) for w in doc])"
   ],
   "metadata": {
    "collapsed": false,
    "pycharm": {
     "name": "#%%\n"
    }
   }
  },
  {
   "cell_type": "markdown",
   "source": [
    "# Tokenization\n",
    "## Is the process of breaking up the original text into component pieces (tokens).\n",
    "### Tokens are the basic building blocks of a Doc Object, everything that help us understand the MEANING of a text is derived from tokens and their relationships\n",
    "- Prefix: Character(s) at the beginning\n",
    "- Suffix: Character(s) at the end\n",
    "- Infix: Character(s) in between\n",
    "- Exception: Special-case rule to split a string into several tokens or prevent a token from being split when punctuation rules are applied."
   ],
   "metadata": {
    "collapsed": false,
    "pycharm": {
     "name": "#%% md\n"
    }
   }
  },
  {
   "cell_type": "code",
   "execution_count": 11,
   "outputs": [],
   "source": [
    "import en_core_web_sm\n",
    "nlp_en = en_core_web_sm.load()"
   ],
   "metadata": {
    "collapsed": false,
    "pycharm": {
     "name": "#%%\n"
    }
   }
  },
  {
   "cell_type": "code",
   "execution_count": 13,
   "outputs": [],
   "source": [
    "my_string = '\"we\\'re moving to L.A.!\"'"
   ],
   "metadata": {
    "collapsed": false,
    "pycharm": {
     "name": "#%%\n"
    }
   }
  },
  {
   "cell_type": "code",
   "execution_count": 14,
   "outputs": [
    {
     "name": "stdout",
     "output_type": "stream",
     "text": [
      "\"we're moving to L.A.!\"\n"
     ]
    }
   ],
   "source": [
    "print(my_string)"
   ],
   "metadata": {
    "collapsed": false,
    "pycharm": {
     "name": "#%%\n"
    }
   }
  },
  {
   "cell_type": "code",
   "execution_count": 15,
   "outputs": [],
   "source": [
    "doc = nlp_en(my_string)"
   ],
   "metadata": {
    "collapsed": false,
    "pycharm": {
     "name": "#%%\n"
    }
   }
  },
  {
   "cell_type": "code",
   "execution_count": 18,
   "outputs": [
    {
     "name": "stdout",
     "output_type": "stream",
     "text": [
      "\"\n",
      "we\n",
      "'re\n",
      "moving\n",
      "to\n",
      "L.A.\n",
      "!\n",
      "\"\n"
     ]
    }
   ],
   "source": [
    "for token in doc:\n",
    "    print(token.text)"
   ],
   "metadata": {
    "collapsed": false,
    "pycharm": {
     "name": "#%%\n"
    }
   }
  },
  {
   "cell_type": "code",
   "execution_count": 20,
   "outputs": [],
   "source": [
    "another_textr = u\"We're here to help!, send snail-email, email support@oursite.com or visit http://www.oursite.com \"\n",
    "another_doc = nlp_en(another_textr)"
   ],
   "metadata": {
    "collapsed": false,
    "pycharm": {
     "name": "#%%\n"
    }
   }
  },
  {
   "cell_type": "code",
   "execution_count": 21,
   "outputs": [
    {
     "name": "stdout",
     "output_type": "stream",
     "text": [
      "We\n",
      "'re\n",
      "here\n",
      "to\n",
      "help\n",
      "!\n",
      ",\n",
      "send\n",
      "snail\n",
      "-\n",
      "email\n",
      ",\n",
      "email\n",
      "support@oursite.com\n",
      "or\n",
      "visit\n",
      "http://www.oursite.com\n"
     ]
    }
   ],
   "source": [
    "for token in another_doc:\n",
    "    print(token)"
   ],
   "metadata": {
    "collapsed": false,
    "pycharm": {
     "name": "#%%\n"
    }
   }
  },
  {
   "cell_type": "code",
   "execution_count": 27,
   "outputs": [],
   "source": [
    "esp_text = \"Un viaje en texi en la ciudad de Mexico cuesta alrededor de $350.45 MXN pesos\"\n",
    "doc_es = nlp_es(esp_text)"
   ],
   "metadata": {
    "collapsed": false,
    "pycharm": {
     "name": "#%%\n"
    }
   }
  },
  {
   "cell_type": "code",
   "execution_count": 28,
   "outputs": [
    {
     "name": "stdout",
     "output_type": "stream",
     "text": [
      "Un DET\n",
      "viaje NOUN\n",
      "en ADP\n",
      "texi NOUN\n",
      "en ADP\n",
      "la DET\n",
      "ciudad NOUN\n",
      "de ADP\n",
      "Mexico PROPN\n",
      "cuesta VERB\n",
      "alrededor ADV\n",
      "de ADP\n",
      "$ PROPN\n",
      "350.45 PROPN\n",
      "MXN PROPN\n",
      "pesos NOUN\n"
     ]
    }
   ],
   "source": [
    "for t in doc_es:\n",
    "    print(t.text, t.pos_)"
   ],
   "metadata": {
    "collapsed": false,
    "pycharm": {
     "name": "#%%\n"
    }
   }
  },
  {
   "cell_type": "code",
   "execution_count": 29,
   "outputs": [
    {
     "data": {
      "text/plain": "16"
     },
     "execution_count": 29,
     "metadata": {},
     "output_type": "execute_result"
    }
   ],
   "source": [
    "len(doc_es)"
   ],
   "metadata": {
    "collapsed": false,
    "pycharm": {
     "name": "#%%\n"
    }
   }
  },
  {
   "cell_type": "code",
   "execution_count": 35,
   "outputs": [
    {
     "data": {
      "text/plain": "308"
     },
     "execution_count": 35,
     "metadata": {},
     "output_type": "execute_result"
    }
   ],
   "source": [
    "len(doc_es.vocab)"
   ],
   "metadata": {
    "collapsed": false,
    "pycharm": {
     "name": "#%%\n"
    }
   }
  },
  {
   "cell_type": "code",
   "execution_count": 36,
   "outputs": [
    {
     "name": "stdout",
     "output_type": "stream",
     "text": [
      "Mexico\n",
      "MXN\n"
     ]
    }
   ],
   "source": [
    "for entity in doc_es.ents:\n",
    "    print(entity)"
   ],
   "metadata": {
    "collapsed": false,
    "pycharm": {
     "name": "#%%\n"
    }
   }
  },
  {
   "cell_type": "code",
   "execution_count": 42,
   "outputs": [
    {
     "name": "stdout",
     "output_type": "stream",
     "text": [
      "Entity = Capital One, Label = ORG, Label Explanation = Companies, agencies, institutions, etc.\n",
      "Entity = AWS Cloud, Label = PRODUCT, Label Explanation = Objects, vehicles, foods, etc. (not services)\n",
      "Entity = 11 Million, Label = CARDINAL, Label Explanation = Numerals that do not fall under another type\n"
     ]
    }
   ],
   "source": [
    "n_text = \"A startup created by Capital One group is going to invest in a large cluster in AWS Cloud for 11 Million USD\"\n",
    "for ent in nlp_en(n_text).ents:\n",
    "    print(f\"Entity = {ent}, Label = {ent.label_}, Label Explanation = {spacy.explain(ent.label_)}\")"
   ],
   "metadata": {
    "collapsed": false,
    "pycharm": {
     "name": "#%%\n"
    }
   }
  }
 ],
 "metadata": {
  "kernelspec": {
   "display_name": "Python 3",
   "language": "python",
   "name": "python3"
  },
  "language_info": {
   "codemirror_mode": {
    "name": "ipython",
    "version": 2
   },
   "file_extension": ".py",
   "mimetype": "text/x-python",
   "name": "python",
   "nbconvert_exporter": "python",
   "pygments_lexer": "ipython2",
   "version": "2.7.6"
  }
 },
 "nbformat": 4,
 "nbformat_minor": 0
}