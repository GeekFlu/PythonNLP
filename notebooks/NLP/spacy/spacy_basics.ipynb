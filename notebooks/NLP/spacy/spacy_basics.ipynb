{
 "cells": [
  {
   "cell_type": "markdown",
   "source": [
    "# Spacy Basics"
   ],
   "metadata": {
    "collapsed": false
   }
  },
  {
   "cell_type": "code",
   "execution_count": 1,
   "metadata": {
    "collapsed": true
   },
   "outputs": [],
   "source": [
    "import spacy"
   ]
  },
  {
   "cell_type": "code",
   "execution_count": 2,
   "outputs": [],
   "source": [
    "nlp = spacy.load('en_core_web_sm')"
   ],
   "metadata": {
    "collapsed": false,
    "pycharm": {
     "name": "#%%\n"
    }
   }
  },
  {
   "cell_type": "code",
   "execution_count": 3,
   "outputs": [],
   "source": [
    "doc = nlp(u'Tesla is looking at buying U.S. startup for $7 million')"
   ],
   "metadata": {
    "collapsed": false,
    "pycharm": {
     "name": "#%%\n"
    }
   }
  },
  {
   "cell_type": "code",
   "execution_count": 4,
   "outputs": [
    {
     "name": "stdout",
     "output_type": "stream",
     "text": [
      "Tesla 96 PROPN\n",
      "is 87 AUX\n",
      "looking 100 VERB\n",
      "at 85 ADP\n",
      "buying 100 VERB\n",
      "U.S. 96 PROPN\n",
      "startup 92 NOUN\n",
      "for 85 ADP\n",
      "$ 99 SYM\n",
      "7 93 NUM\n",
      "million 93 NUM\n"
     ]
    }
   ],
   "source": [
    "for token in doc:\n",
    "    print(token.text, token.pos, token.pos_)"
   ],
   "metadata": {
    "collapsed": false,
    "pycharm": {
     "name": "#%%\n"
    }
   }
  },
  {
   "cell_type": "code",
   "execution_count": 5,
   "outputs": [
    {
     "data": {
      "text/plain": "[('tagger', <spacy.pipeline.pipes.Tagger at 0x7f0eced62130>),\n ('parser', <spacy.pipeline.pipes.DependencyParser at 0x7f0ecefb8460>),\n ('ner', <spacy.pipeline.pipes.EntityRecognizer at 0x7f0ecefb8520>)]"
     },
     "execution_count": 5,
     "metadata": {},
     "output_type": "execute_result"
    }
   ],
   "source": [
    "nlp.pipeline"
   ],
   "metadata": {
    "collapsed": false,
    "pycharm": {
     "name": "#%%\n"
    }
   }
  },
  {
   "cell_type": "code",
   "execution_count": 6,
   "outputs": [
    {
     "data": {
      "text/plain": "['tagger', 'parser', 'ner']"
     },
     "execution_count": 6,
     "metadata": {},
     "output_type": "execute_result"
    }
   ],
   "source": [
    "nlp.pipe_names"
   ],
   "metadata": {
    "collapsed": false,
    "pycharm": {
     "name": "#%%\n"
    }
   }
  },
  {
   "cell_type": "code",
   "execution_count": 7,
   "outputs": [
    {
     "data": {
      "text/plain": "OrderedDict([('tagger',\n              ['$',\n               \"''\",\n               ',',\n               '-LRB-',\n               '-RRB-',\n               '.',\n               ':',\n               'ADD',\n               'AFX',\n               'CC',\n               'CD',\n               'DT',\n               'EX',\n               'FW',\n               'HYPH',\n               'IN',\n               'JJ',\n               'JJR',\n               'JJS',\n               'LS',\n               'MD',\n               'NFP',\n               'NN',\n               'NNP',\n               'NNPS',\n               'NNS',\n               'PDT',\n               'POS',\n               'PRP',\n               'PRP$',\n               'RB',\n               'RBR',\n               'RBS',\n               'RP',\n               'SYM',\n               'TO',\n               'UH',\n               'VB',\n               'VBD',\n               'VBG',\n               'VBN',\n               'VBP',\n               'VBZ',\n               'WDT',\n               'WP',\n               'WP$',\n               'WRB',\n               'XX',\n               '_SP',\n               '``']),\n             ('parser',\n              ['ROOT',\n               'acl',\n               'acomp',\n               'advcl',\n               'advmod',\n               'agent',\n               'amod',\n               'appos',\n               'attr',\n               'aux',\n               'auxpass',\n               'case',\n               'cc',\n               'ccomp',\n               'compound',\n               'conj',\n               'csubj',\n               'csubjpass',\n               'dative',\n               'dep',\n               'det',\n               'dobj',\n               'expl',\n               'intj',\n               'mark',\n               'meta',\n               'neg',\n               'nmod',\n               'npadvmod',\n               'nsubj',\n               'nsubjpass',\n               'nummod',\n               'oprd',\n               'parataxis',\n               'pcomp',\n               'pobj',\n               'poss',\n               'preconj',\n               'predet',\n               'prep',\n               'prt',\n               'punct',\n               'quantmod',\n               'relcl',\n               'xcomp']),\n             ('ner',\n              ['CARDINAL',\n               'DATE',\n               'EVENT',\n               'FAC',\n               'GPE',\n               'LANGUAGE',\n               'LAW',\n               'LOC',\n               'MONEY',\n               'NORP',\n               'ORDINAL',\n               'ORG',\n               'PERCENT',\n               'PERSON',\n               'PRODUCT',\n               'QUANTITY',\n               'TIME',\n               'WORK_OF_ART'])])"
     },
     "execution_count": 7,
     "metadata": {},
     "output_type": "execute_result"
    }
   ],
   "source": [
    "nlp.pipe_labels"
   ],
   "metadata": {
    "collapsed": false,
    "pycharm": {
     "name": "#%%\n"
    }
   }
  },
  {
   "cell_type": "code",
   "execution_count": null,
   "outputs": [],
   "source": [],
   "metadata": {
    "collapsed": false,
    "pycharm": {
     "name": "#%%\n"
    }
   }
  }
 ],
 "metadata": {
  "kernelspec": {
   "display_name": "Python 3",
   "language": "python",
   "name": "python3"
  },
  "language_info": {
   "codemirror_mode": {
    "name": "ipython",
    "version": 2
   },
   "file_extension": ".py",
   "mimetype": "text/x-python",
   "name": "python",
   "nbconvert_exporter": "python",
   "pygments_lexer": "ipython2",
   "version": "2.7.6"
  }
 },
 "nbformat": 4,
 "nbformat_minor": 0
}