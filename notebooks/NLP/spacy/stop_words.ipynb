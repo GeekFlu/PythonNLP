{
 "cells": [
  {
   "cell_type": "markdown",
   "metadata": {
    "collapsed": true,
    "pycharm": {
     "name": "#%% md\n"
    }
   },
   "source": [
    "# Words like a, the appear so frequently and do not require tagging, we call these stop words and can be filtered from the text to be processed."
   ]
  },
  {
   "cell_type": "code",
   "execution_count": 1,
   "outputs": [],
   "source": [
    "import spacy\n",
    "import en_core_web_sm\n",
    "import es_core_news_sm"
   ],
   "metadata": {
    "collapsed": false,
    "pycharm": {
     "name": "#%%\n"
    }
   }
  },
  {
   "cell_type": "code",
   "execution_count": 2,
   "outputs": [],
   "source": [
    "nlp_en = en_core_web_sm.load()\n",
    "nlp_es = es_core_news_sm.load()"
   ],
   "metadata": {
    "collapsed": false,
    "pycharm": {
     "name": "#%%\n"
    }
   }
  },
  {
   "cell_type": "code",
   "execution_count": 7,
   "outputs": [
    {
     "name": "stdout",
     "output_type": "stream",
     "text": [
      "Stop Words in English\n",
      "{'rather', 'during', \"n't\", 'ca', 'make', 'almost', 'meanwhile', 'first', 'alone', 'formerly', 'anyhow', 'they', 'unless', 'whenever', 'hundred', 'next', 'might', 'none', 'anyone', 'one', 'to', 'already', 'against', 'again', '‘ve', 'often', '‘d', 'top', 'no', 'less', 'but', 'everyone', 'five', 'otherwise', 'whole', 'within', 'have', 'whereupon', 'herself', 'too', 'fifteen', '’d', 'much', 'using', 'thru', 'beyond', 'she', 'four', '’re', 'other', '‘ll', 'noone', 'fifty', 'because', 'him', 'his', 'yourselves', 'had', 'never', 'a', 'seem', 'which', 'though', 'hereafter', 'when', 'put', 'been', 'here', 'n’t', 'seemed', 'be', 'some', 'her', 'mostly', 'call', 'eight', \"'ve\", '’ll', 'ever', 'somewhere', 'from', 'he', 'could', 'so', 'someone', 'somehow', 'done', 'will', 'neither', 'get', 'cannot', 'can', 'become', 'me', 'nowhere', 'than', 'anywhere', 'former', 'besides', 'up', 'since', 'i', 'thereby', \"'s\", 'throughout', 'itself', 'at', 'part', '’m', 'whereafter', 'has', '‘re', 'together', 'among', 'elsewhere', 'am', 'hereby', 'are', 'amount', 'except', 'empty', 'quite', 'your', 'before', 'myself', 'into', 'n‘t', 'whereas', 'us', 'see', 'ten', 'ourselves', 'give', 'may', 'six', 'eleven', 'by', 'twelve', 'move', 'anything', 'along', 'well', 'only', 'mine', 'whether', 'where', 'few', 'however', 'moreover', 'out', 'herein', 'do', '’s', 'its', 'under', 'seeming', 'whereby', 'something', 'about', 'without', 'whom', 'over', 'after', 'or', \"'ll\", 'another', 'not', 'hers', 'if', 'were', 'forty', 'serious', 'whence', 'thereupon', 'for', 'due', 'those', 'still', 'behind', 'down', 'therein', 'everywhere', 'we', 'many', 'sometime', \"'m\", 'sixty', 'what', 'does', 'thence', 'becomes', 'even', 'any', 'nor', 'whoever', 'nothing', 'own', 'keep', 'upon', 'off', 'it', 'then', '’ve', 'take', \"'re\", 'show', 'two', 'across', 'both', 'enough', 'on', 'did', 'more', 'above', 'through', 'wherein', 'latterly', 'least', 'thereafter', 'was', 'also', 'and', 'below', 'per', 'every', 'say', 'who', 'my', 'their', 'that', 'via', 'last', 'several', 're', 'yours', 'latter', 'yet', 'nine', 'most', 'although', 'is', 'beforehand', 'in', 'whose', 'now', 'between', 'all', 'seems', 'really', 'whither', 'why', 'just', 'always', 'our', 'such', 'thus', 'go', 'whatever', 'would', 'themselves', 'hence', 'indeed', 'there', 'became', 'else', 'very', 'once', 'as', 'each', 'you', 'third', 'amongst', 'made', 'namely', 'either', 'while', 'until', 'should', 'same', 'front', 'beside', 'towards', 'used', 'of', 'himself', 'please', 'being', 'afterwards', 'name', 'sometimes', 'becoming', 'bottom', 'twenty', 'hereupon', 'full', 'anyway', 'with', 'this', 'perhaps', 'various', 'further', 'therefore', 'how', 'an', 'nobody', 'three', 'toward', 'back', 'them', 'yourself', 'onto', 'ours', 'everything', '‘m', 'regarding', 'around', 'others', 'nevertheless', 'side', 'these', '‘s', 'wherever', 'doing', \"'d\", 'must', 'the'}\n",
      "326\n"
     ]
    }
   ],
   "source": [
    "print(\"Stop Words in English\")\n",
    "print(nlp_en.Defaults.stop_words)\n",
    "print(len(nlp_en.Defaults.stop_words))"
   ],
   "metadata": {
    "collapsed": false,
    "pycharm": {
     "name": "#%%\n"
    }
   }
  },
  {
   "cell_type": "code",
   "execution_count": 8,
   "outputs": [
    {
     "name": "stdout",
     "output_type": "stream",
     "text": [
      "Stop words para espaniol\n",
      "{'dado', 'hubo', 'dicho', 'eras', 'estamos', 'poco', 'aquélla', 'ambos', 'señaló', 'tener', 'último', 'pesar', 'cuánta', 'tan', 'ésas', 'momento', 'podrían', 'algunas', 'luego', 'vuestros', 'final', 'nuevos', 'vez', 'principalmente', 'sé', 'podriamos', 'suya', 'algún', 'hacer', 'vuestro', 'verdad', 'creo', 'usais', 'así', 'manera', 'tendrá', 'diferentes', 'habrá', 'verdadero', 'ampleamos', 'esta', 'poner', 'existe', 'estoy', 'tú', 'adelante', 'apenas', 'ella', 'pues', 'ti', 'algo', 'tuyo', 'última', 'mismo', 'son', 'estas', 'nuestra', 'aquellas', 'últimas', 'aquella', 'suyo', 'mi', 'no', 'hablan', 'alguna', 'delante', 'trabajan', 'breve', 'cuántos', 'dónde', 'su', 'éste', 'buenos', 'éstos', 'pasada', 'podrán', 'días', 'va', 'dias', 'siete', 'consigue', 'ocho', 'ése', 'aún', 'peor', 'hacia', 'pronto', 'mismas', 'cuanto', 'ésta', 'además', 'ante', 'bueno', 'nunca', 'ir', 'solamente', 'excepto', 'mio', 'sólo', 'teneis', 'través', 'asi', 'cierto', 'entre', 'nuevas', 'alli', 'ningún', 'trabajo', 'intentas', 'usa', 'considera', 'mía', 'misma', 'haceis', 'dos', 'te', 'otros', 'afirmó', 'arriba', 'nuestros', 'pais', 'fin', 'lejos', 'eres', 'primero', 'da', 'últimos', 'parece', 'cosas', 'demás', 'acuerdo', 'cuantas', 'nuevo', 'tanto', 'raras', 'enfrente', 'dijeron', 'tenga', 'tiempo', 'usan', 'quizá', 'mis', 'una', 'según', 'allí', 'pocos', 'solas', 'debajo', 'estados', 'casi', 'repente', 'cuántas', 'trata', 'nueva', 'había', 'he', 'vais', 'añadió', 'esto', 'dia', 'mientras', 'varias', 'cual', 'junto', 'despues', 'modo', 'solos', 'gran', 'éstas', 'saben', 'buena', 'cuánto', 'informo', 'podrá', 'uso', 'quedó', 'todas', 'mío', 'bien', 'tuyos', 'ningunos', 'consiguen', 'sea', 'me', 'nosotros', 'llegó', 'aquellos', 'hemos', 'podriais', 'fuimos', 'quiere', 'las', 'consigo', 'dar', 'esas', 'van', 'detrás', 'haciendo', 'consigues', 'decir', 'lo', 'emplear', 'verdadera', 'trabajais', 'sobre', 'conmigo', 'qué', 'es', 'cuanta', 'hago', 'ese', 'estaba', 'tarde', 'estará', 'aseguró', 'estos', 'sean', 'trabajamos', 'el', 'aquél', 'cada', 'nuestras', 'partir', 'existen', 'mediante', 'vuestras', 'muchos', 'atras', 'puede', 'indicó', 'les', 'estaban', 'ejemplo', 'contra', 'mucho', 'vuestra', 'queremos', 'él', 'fuera', 'cómo', 'tenido', 'realizó', 'cinco', 'ha', 'intenta', 'en', 'ni', 'ninguna', 'todo', 'encuentra', 'aqui', 'embargo', 'todavía', 'realizado', 'parte', 'propia', 'aun', 'intentan', 'más', 'mayor', 'despacio', 'veces', 'qeu', 'muchas', 'informó', 'próximo', 'mia', 'otra', 'pudo', 'gueno', 'están', 'hicieron', 'todos', 'eso', 'esa', 'vosotras', 'tal', 'tus', 'haya', 'estan', 'ningunas', 'lugar', 'empleo', 'saber', 'aquello', 'vaya', 'dijo', 'paìs', 'anterior', 'uno', 'bajo', 'que', 'lado', 'puedo', 'pasado', 'dan', 'cualquier', 'ver', 'este', 'hecho', 'hace', 'conocer', 'estais', 'sí', 'posible', 'hizo', 'ahí', 'respecto', 'ayer', 'propias', 'ahora', 'tampoco', 'nosotras', 'valor', 'tercera', 'mejor', 'nadie', 'podria', 'fue', 'sus', 'suyas', 'tambien', 'será', 'mías', 'al', 'actualmente', 'alguno', 'cuantos', 'ademas', 'sola', 'ya', 'medio', 'deprisa', 'habia', 'de', 'algunos', 'aquí', 'era', 'nada', 'sabemos', 'un', 'usted', 'propio', 'haber', 'fueron', 'eran', 'total', 'sabes', 'soyos', 'le', 'siempre', 'trabajas', 'vosotros', 'realizar', 'bastante', 'debido', 'sabe', 'próximos', 'por', 'todavia', 'cuándo', 'se', 'ciertos', 'hoy', 'menos', 'vamos', 'cuál', 'hacerlo', 'día', 'sabeis', 'también', 'comentó', 'estado', 'intento', 'antes', 'hacemos', 'tengo', 'ciertas', 'contigo', 'alrededor', 'tuya', 'mias', 'pero', 'segunda', 'ser', 'tiene', 'serán', 'con', 'ésa', 'seis', 'varios', 'cuatro', 'quien', 'ustedes', 'ello', 'diferente', 'hay', 'trabajar', 'haces', 'quiénes', 'durante', 'trabaja', 'tres', 'como', 'encima', 'salvo', 'dejó', 'consideró', 'otras', 'dice', 'siendo', 'pocas', 'mucha', 'los', 'general', 'porque', 'fui', 'os', 'unos', 'dio', 'mas', 'empleais', 'estar', 'incluso', 'quienes', 'siguiente', 'pueda', 'detras', 'deben', 'habían', 'unas', 'después', 'cuenta', 'quién', 'cerca', 'cierta', 'claro', 'voy', 'antaño', 'adrede', 'aquéllos', 'quizás', 'manifestó', 'aunque', 'somos', 'si', 'expresó', 'soy', 'habla', 'tendrán', 'aquel', 'tu', 'mal', 'han', 'conseguir', 'intentais', 'podría', 'proximo', 'buenas', 'demasiado', 'segundo', 'para', 'desde', 'nuestro', 'cuando', 'primera', 'mencionó', 'otro', 'tenemos', 'pueden', 'tenía', 'donde', 'hasta', 'hacen', 'debe', 'horas', 'poder', 'ésos', 'arribaabajo', 'tuvo', 'conseguimos', 'usar', 'solo', 'supuesto', 'segun', 'míos', 'temprano', 'sigue', 'enseguida', 'ahi', 'tuyas', 'agregó', 'emplean', 'del', 'mí', 'quiza', 'sido', 'sois', 'dicen', 'podrias', 'esos', 'largo', 'podeis', 'sino', 'aquéllas', 'explicó', 'antano', 'mismos', 'primeros', 'igual', 'poca', 'aproximadamente', 'podrian', 'yo', 'tienen', 'usas', 'cuáles', 'ex', 'intentar', 'buen', 'llevar', 'ninguno', 'primer', 'ellos', 'grandes', 'está', 'sería', 'ultimo', 'sin', 'podemos', 'mios', 'muy', 'nos', 'lleva', 'cuales', 'intentamos', 'menudo', 'dieron', 'eramos', 'toda', 'sera', 'empleas', 'tras', 'quizas', 'entonces', 'dentro', 'ellas', 'propios', 'la', 'estuvo', 'usamos'}\n",
      "551\n"
     ]
    }
   ],
   "source": [
    "print(\"Stop words para espaniol\")\n",
    "print(nlp_es.Defaults.stop_words)\n",
    "print(len(nlp_es.Defaults.stop_words))"
   ],
   "metadata": {
    "collapsed": false,
    "pycharm": {
     "name": "#%%\n"
    }
   }
  },
  {
   "cell_type": "code",
   "execution_count": 9,
   "outputs": [
    {
     "data": {
      "text/plain": "True"
     },
     "execution_count": 9,
     "metadata": {},
     "output_type": "execute_result"
    }
   ],
   "source": [
    "nlp_en.vocab['is'].is_stop"
   ],
   "metadata": {
    "collapsed": false,
    "pycharm": {
     "name": "#%%\n"
    }
   }
  },
  {
   "cell_type": "code",
   "execution_count": 10,
   "outputs": [
    {
     "data": {
      "text/plain": "True"
     },
     "execution_count": 10,
     "metadata": {},
     "output_type": "execute_result"
    }
   ],
   "source": [
    "nlp_es.vocab['eras'].is_stop"
   ],
   "metadata": {
    "collapsed": false,
    "pycharm": {
     "name": "#%%\n"
    }
   }
  },
  {
   "cell_type": "code",
   "execution_count": 12,
   "outputs": [],
   "source": [
    "#add a stop word to the set\n",
    "nlp_en.Defaults.stop_words.add('btw')\n",
    "nlp_es.Defaults.stop_words.add('alv')"
   ],
   "metadata": {
    "collapsed": false,
    "pycharm": {
     "name": "#%%\n"
    }
   }
  },
  {
   "cell_type": "code",
   "execution_count": 13,
   "outputs": [
    {
     "data": {
      "text/plain": "True"
     },
     "execution_count": 13,
     "metadata": {},
     "output_type": "execute_result"
    }
   ],
   "source": [
    "nlp_es.vocab['alv'].is_stop"
   ],
   "metadata": {
    "collapsed": false,
    "pycharm": {
     "name": "#%%\n"
    }
   }
  },
  {
   "cell_type": "markdown",
   "source": [
    "# Remove the same applies"
   ],
   "metadata": {
    "collapsed": false,
    "pycharm": {
     "name": "#%% md\n"
    }
   }
  }
 ],
 "metadata": {
  "kernelspec": {
   "display_name": "Python 3",
   "language": "python",
   "name": "python3"
  },
  "language_info": {
   "codemirror_mode": {
    "name": "ipython",
    "version": 2
   },
   "file_extension": ".py",
   "mimetype": "text/x-python",
   "name": "python",
   "nbconvert_exporter": "python",
   "pygments_lexer": "ipython2",
   "version": "2.7.6"
  }
 },
 "nbformat": 4,
 "nbformat_minor": 0
}