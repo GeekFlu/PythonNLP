{
 "cells": [
  {
   "cell_type": "markdown",
   "metadata": {
    "collapsed": true,
    "pycharm": {
     "name": "#%% md\n"
    }
   },
   "source": [
    "# Lemmatization\n",
    "## Find the root or general idea of words"
   ]
  },
  {
   "cell_type": "code",
   "execution_count": 2,
   "outputs": [],
   "source": [
    "import en_core_web_sm\n",
    "import es_core_news_sm\n",
    "nlp_en = en_core_web_sm.load()\n",
    "nlp_es = es_core_news_sm.load()"
   ],
   "metadata": {
    "collapsed": false,
    "pycharm": {
     "name": "#%%\n"
    }
   }
  },
  {
   "cell_type": "code",
   "execution_count": 3,
   "outputs": [],
   "source": [
    "doc_en = nlp_en(u\"I am a runner running in a race, because I love to run since the beginning of the running era\")\n",
    "doc_es = nlp_es(u\"A mi gusta correr y comprar, la compra que hice la semana pasada me hizo correr una carrera contra el tiempo\")"
   ],
   "metadata": {
    "collapsed": false,
    "pycharm": {
     "name": "#%%\n"
    }
   }
  },
  {
   "cell_type": "markdown",
   "source": [
    ">>> s0, s1 = 'a', 'bb'\n",
    ">>>\n",
    ">>> # Left-aligned with padding *\n",
    ">>> print(f'{s0:*<7}\\n{s1:*<7}')\n",
    "- a......\n",
    "- bb.....\n",
    ">>>\n",
    ">>> # Right-aligned with padding %\n",
    ">>> print(f'{s0:%>8}\\n{s1:%>8}')\n",
    "- %%%%%%%a\n",
    "- %%%%%%bb\n",
    ">>>\n",
    ">>> # Center-aligned\n",
    ">>> print(f'{s0:@^9}\\n{s1:@^9}')\n",
    "@@@@a@@@@\n",
    "@@@bb@@@@"
   ],
   "metadata": {
    "collapsed": false,
    "pycharm": {
     "name": "#%% md\n"
    }
   }
  },
  {
   "cell_type": "code",
   "execution_count": 6,
   "outputs": [],
   "source": [
    "def show_lemmas(document):\n",
    "    for token in document:\n",
    "        print(f\"{token.text:{12}} {token.pos_:{6}} {token.lemma:<{20}} {token.lemma_}\")"
   ],
   "metadata": {
    "collapsed": false,
    "pycharm": {
     "name": "#%%\n"
    }
   }
  },
  {
   "cell_type": "code",
   "execution_count": 7,
   "outputs": [
    {
     "name": "stdout",
     "output_type": "stream",
     "text": [
      "I            PRON   561228191312463089   -PRON-\n",
      "am           AUX    10382539506755952630 be\n",
      "a            DET    11901859001352538922 a\n",
      "runner       NOUN   12640964157389618806 runner\n",
      "running      VERB   12767647472892411841 run\n",
      "in           ADP    3002984154512732771  in\n",
      "a            DET    11901859001352538922 a\n",
      "race         NOUN   8048469955494714898  race\n",
      ",            PUNCT  2593208677638477497  ,\n",
      "because      SCONJ  16950148841647037698 because\n",
      "I            PRON   561228191312463089   -PRON-\n",
      "love         VERB   3702023516439754181  love\n",
      "to           PART   3791531372978436496  to\n",
      "run          VERB   12767647472892411841 run\n",
      "since        SCONJ  10066841407251338481 since\n",
      "the          DET    7425985699627899538  the\n",
      "beginning    NOUN   12304532214724622334 beginning\n",
      "of           ADP    886050111519832510   of\n",
      "the          DET    7425985699627899538  the\n",
      "running      VERB   12767647472892411841 run\n",
      "era          NOUN   7478797442728669872  era\n"
     ]
    }
   ],
   "source": [
    "show_lemmas(doc_en)"
   ],
   "metadata": {
    "collapsed": false,
    "pycharm": {
     "name": "#%%\n"
    }
   }
  },
  {
   "cell_type": "code",
   "execution_count": 8,
   "outputs": [
    {
     "name": "stdout",
     "output_type": "stream",
     "text": [
      "A            ADP    14862748245026736845 A\n",
      "mi           DET    8676063341920465065  mi\n",
      "gusta        NOUN   4524232712002072552  gustar\n",
      "correr       VERB   10468945644875678183 correr\n",
      "y            CCONJ  9409450202036847209  y\n",
      "comprar      VERB   14693903559841170636 comprar\n",
      ",            PUNCT  2593208677638477497  ,\n",
      "la           DET    12507729120330568444 lo\n",
      "compra       NOUN   14693903559841170636 comprar\n",
      "que          SCONJ  11474801393294414462 que\n",
      "hice         VERB   17672920047749692400 hacer\n",
      "la           DET    12507729120330568444 lo\n",
      "semana       NOUN   5115876900174477068  semana\n",
      "pasada       ADJ    8365782747564503572  pasar\n",
      "me           PRON   18197037023634208128 me\n",
      "hizo         AUX    17672920047749692400 hacer\n",
      "correr       VERB   10468945644875678183 correr\n",
      "una          DET    8171375619591740969  uno\n",
      "carrera      NOUN   17410845618979305672 carrera\n",
      "contra       ADP    5827824339048469264  contra\n",
      "el           DET    11488171005156075516 el\n",
      "tiempo       NOUN   3897009725270815938  tiempo\n"
     ]
    }
   ],
   "source": [
    "show_lemmas(doc_es)"
   ],
   "metadata": {
    "collapsed": false,
    "pycharm": {
     "name": "#%%\n"
    }
   }
  }
 ],
 "metadata": {
  "kernelspec": {
   "display_name": "Python 3",
   "language": "python",
   "name": "python3"
  },
  "language_info": {
   "codemirror_mode": {
    "name": "ipython",
    "version": 2
   },
   "file_extension": ".py",
   "mimetype": "text/x-python",
   "name": "python",
   "nbconvert_exporter": "python",
   "pygments_lexer": "ipython2",
   "version": "2.7.6"
  }
 },
 "nbformat": 4,
 "nbformat_minor": 0
}