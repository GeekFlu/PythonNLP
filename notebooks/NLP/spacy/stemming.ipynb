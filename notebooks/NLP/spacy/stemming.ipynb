{
 "cells": [
  {
   "cell_type": "markdown",
   "metadata": {
    "collapsed": true,
    "pycharm": {
     "name": "#%% md\n"
    }
   },
   "source": [
    "# Stemming\n",
    "## When searching for words in a text, it helps if the search returns variations of the word.\n",
    "- Searching for boat might also return the next words:\n",
    "    - boats\n",
    "    - boating\n",
    "- Boat would be the stem for:\n",
    "    - boat\n",
    "    - boater\n",
    "    - boating\n",
    "    - boats\n",
    "- Stemming is usually a crude method for cataloging related words: it essentially chops off letters from the end until the stem is reached.\n",
    "    - It helps to return similar words"
   ]
  },
  {
   "cell_type": "markdown",
   "source": [
    "# Spicy does not include stemming.\n",
    "## We are going to use NLTK"
   ],
   "metadata": {
    "collapsed": false,
    "pycharm": {
     "name": "#%% md\n"
    }
   }
  },
  {
   "cell_type": "markdown",
   "source": [
    "# English stemmer\n",
    "## Porter 2 Stemmer developed by Martin Porter."
   ],
   "metadata": {
    "collapsed": false,
    "pycharm": {
     "name": "#%% md\n"
    }
   }
  },
  {
   "cell_type": "code",
   "execution_count": 2,
   "outputs": [],
   "source": [
    "import nltk\n",
    "from nltk.stem.porter import PorterStemmer"
   ],
   "metadata": {
    "collapsed": false,
    "pycharm": {
     "name": "#%%\n"
    }
   }
  },
  {
   "cell_type": "code",
   "execution_count": 3,
   "outputs": [],
   "source": [
    "porter_stemmer = PorterStemmer()"
   ],
   "metadata": {
    "collapsed": false,
    "pycharm": {
     "name": "#%%\n"
    }
   }
  },
  {
   "cell_type": "code",
   "execution_count": 14,
   "outputs": [],
   "source": [
    "words = ['run', 'runner', 'running', 'ran', 'run out', 'ran out', 'easily', 'fairly', 'fairness']"
   ],
   "metadata": {
    "collapsed": false,
    "pycharm": {
     "name": "#%%\n"
    }
   }
  },
  {
   "cell_type": "code",
   "execution_count": 16,
   "outputs": [
    {
     "name": "stdout",
     "output_type": "stream",
     "text": [
      "run        -----> run       \n",
      "runner     -----> runner    \n",
      "running    -----> run       \n",
      "ran        -----> ran       \n",
      "run out    -----> run out   \n",
      "ran out    -----> ran out   \n",
      "easily     -----> easili    \n",
      "fairly     -----> fairli    \n",
      "fairness   -----> fair      \n"
     ]
    }
   ],
   "source": [
    "for word in words:\n",
    "    print(f\"{word:10} -----> {porter_stemmer.stem(word):10}\")"
   ],
   "metadata": {
    "collapsed": false,
    "pycharm": {
     "name": "#%%\n"
    }
   }
  },
  {
   "cell_type": "code",
   "execution_count": 12,
   "outputs": [],
   "source": [
    "from nltk.stem.snowball import SnowballStemmer\n",
    "snowball_stemmer = SnowballStemmer(language='english')"
   ],
   "metadata": {
    "collapsed": false,
    "pycharm": {
     "name": "#%%\n"
    }
   }
  },
  {
   "cell_type": "code",
   "execution_count": 15,
   "outputs": [
    {
     "name": "stdout",
     "output_type": "stream",
     "text": [
      "run        -----> run       \n",
      "runner     -----> runner    \n",
      "running    -----> run       \n",
      "ran        -----> ran       \n",
      "run out    -----> run out   \n",
      "ran out    -----> ran out   \n",
      "easily     -----> easili    \n",
      "fairly     -----> fair      \n",
      "fairness   -----> fair      \n"
     ]
    }
   ],
   "source": [
    "for word in words:\n",
    "    print(f\"{word:10} -----> {snowball_stemmer.stem(word):10}\")"
   ],
   "metadata": {
    "collapsed": false,
    "pycharm": {
     "name": "#%%\n"
    }
   }
  },
  {
   "cell_type": "code",
   "execution_count": 18,
   "outputs": [
    {
     "name": "stdout",
     "output_type": "stream",
     "text": [
      "Porter Stemmer: generous   -----> gener\n",
      "SnowBall Stemmer: generous   -----> generous\n",
      "\n",
      "\n",
      "Porter Stemmer: generation -----> gener\n",
      "SnowBall Stemmer: generation -----> generat\n",
      "\n",
      "\n",
      "Porter Stemmer: generously -----> gener\n",
      "SnowBall Stemmer: generously -----> generous\n",
      "\n",
      "\n",
      "Porter Stemmer: generate   -----> gener\n",
      "SnowBall Stemmer: generate   -----> generat\n",
      "\n",
      "\n",
      "Porter Stemmer: gene       -----> gene\n",
      "SnowBall Stemmer: gene       -----> gene\n",
      "\n",
      "\n"
     ]
    }
   ],
   "source": [
    "words_gen = ['generous', 'generation', 'generously', 'generate', 'gene']\n",
    "for word in words_gen:\n",
    "    print(f\"Porter Stemmer: {word:10} -----> {porter_stemmer.stem(word)}\")\n",
    "    print(f\"SnowBall Stemmer: {word:10} -----> {snowball_stemmer.stem(word)}\")\n",
    "    print('\\n')"
   ],
   "metadata": {
    "collapsed": false,
    "pycharm": {
     "name": "#%%\n"
    }
   }
  }
 ],
 "metadata": {
  "kernelspec": {
   "display_name": "Python 3",
   "language": "python",
   "name": "python3"
  },
  "language_info": {
   "codemirror_mode": {
    "name": "ipython",
    "version": 2
   },
   "file_extension": ".py",
   "mimetype": "text/x-python",
   "name": "python",
   "nbconvert_exporter": "python",
   "pygments_lexer": "ipython2",
   "version": "2.7.6"
  }
 },
 "nbformat": 4,
 "nbformat_minor": 0
}