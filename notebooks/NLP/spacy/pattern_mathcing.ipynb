{
 "cells": [
  {
   "cell_type": "markdown",
   "source": [
    "## Rule-based Matching\n",
    "spaCy offers a rule-matching tool called `Matcher` that allows you to build a library of token patterns, then match those patterns against a Doc object to return a list of found matches. You can match on any part of the token including text and annotations, and you can add multiple patterns to the same matcher.\n",
    "\n",
    "For additional information visit https://spacy.io/usage/linguistic-features#section-rule-based-matching"
   ],
   "metadata": {
    "collapsed": false
   }
  },
  {
   "cell_type": "code",
   "execution_count": 2,
   "metadata": {
    "collapsed": true
   },
   "outputs": [],
   "source": [
    "import en_core_web_sm\n",
    "import es_core_news_sm\n",
    "from spacy.matcher import Matcher\n",
    "\n",
    "nlp_en = en_core_web_sm.load()\n",
    "nlp_es = es_core_news_sm.load()"
   ]
  },
  {
   "cell_type": "code",
   "execution_count": 3,
   "outputs": [],
   "source": [
    "matcher_en = Matcher(nlp_en.vocab)\n",
    "matcher_es = Matcher(nlp_es.vocab)"
   ],
   "metadata": {
    "collapsed": false,
    "pycharm": {
     "name": "#%%\n"
    }
   }
  },
  {
   "cell_type": "code",
   "execution_count": 7,
   "outputs": [],
   "source": [
    "# SolarPower\n",
    "pattern1 = [{'LOWER':'solarpower'}]\n",
    "# Solar-Power\n",
    "pattern2 = [{'LOWER':'solar'}, {'IS_PUNCT': True}]\n",
    "# Solar Power\n",
    "pattern3 = [{'LOWER':'solar'}, {'LOWER':'power'}]"
   ],
   "metadata": {
    "collapsed": false,
    "pycharm": {
     "name": "#%%\n"
    }
   }
  },
  {
   "cell_type": "code",
   "execution_count": 8,
   "outputs": [],
   "source": [
    "matcher_en.add('SolarPower', None, pattern1, pattern2, pattern3)"
   ],
   "metadata": {
    "collapsed": false,
    "pycharm": {
     "name": "#%%\n"
    }
   }
  },
  {
   "cell_type": "code",
   "execution_count": 16,
   "outputs": [],
   "source": [
    "doc = nlp_en(u'The solar power industry continues to grow as the solar energy produced by the sun powers lost of stuff. Solar-power the next start of the world')"
   ],
   "metadata": {
    "collapsed": false,
    "pycharm": {
     "name": "#%%\n"
    }
   }
  },
  {
   "cell_type": "code",
   "execution_count": 17,
   "outputs": [],
   "source": [
    "matches = matcher_en(doc)"
   ],
   "metadata": {
    "collapsed": false,
    "pycharm": {
     "name": "#%%\n"
    }
   }
  },
  {
   "cell_type": "code",
   "execution_count": 11,
   "outputs": [
    {
     "name": "stdout",
     "output_type": "stream",
     "text": [
      "[(8656102463236116519, 1, 3)]\n"
     ]
    }
   ],
   "source": [
    "print(matches)"
   ],
   "metadata": {
    "collapsed": false,
    "pycharm": {
     "name": "#%%\n"
    }
   }
  },
  {
   "cell_type": "code",
   "execution_count": 18,
   "outputs": [
    {
     "name": "stdout",
     "output_type": "stream",
     "text": [
      "8656102463236116519 SolarPower 1 3 solar power\n",
      "8656102463236116519 SolarPower 20 22 Solar-\n"
     ]
    }
   ],
   "source": [
    "for match_id, start, end in matches:\n",
    "    string_id = nlp_en.vocab.strings[match_id]  # get string representation\n",
    "    span = doc[start:end]                    # get the matched span\n",
    "    print(match_id, string_id, start, end, span.text)"
   ],
   "metadata": {
    "collapsed": false,
    "pycharm": {
     "name": "#%%\n"
    }
   }
  },
  {
   "cell_type": "code",
   "execution_count": 19,
   "outputs": [],
   "source": [
    "from spacy.matcher import PhraseMatcher\n",
    "phrase_matcher_en = PhraseMatcher(nlp_en.vocab)\n",
    "phrase_matcher_es = PhraseMatcher(nlp_es.vocab)"
   ],
   "metadata": {
    "collapsed": false,
    "pycharm": {
     "name": "#%%\n"
    }
   }
  },
  {
   "cell_type": "code",
   "execution_count": 20,
   "outputs": [],
   "source": [
    "with open(\"../files/reaganomics.txt\") as f:\n",
    "    doc_economics = nlp_en(f.read())"
   ],
   "metadata": {
    "collapsed": false,
    "pycharm": {
     "name": "#%%\n"
    }
   }
  },
  {
   "cell_type": "code",
   "execution_count": 21,
   "outputs": [],
   "source": [
    "phrase_lst = ['voodoo economics', 'supply-side economics', 'trickle-down economics', 'free-market economics']"
   ],
   "metadata": {
    "collapsed": false,
    "pycharm": {
     "name": "#%%\n"
    }
   }
  },
  {
   "cell_type": "code",
   "execution_count": 22,
   "outputs": [],
   "source": [
    "phrase_patterns = [nlp_en(text) for text in phrase_lst]"
   ],
   "metadata": {
    "collapsed": false,
    "pycharm": {
     "name": "#%%\n"
    }
   }
  },
  {
   "cell_type": "code",
   "execution_count": 23,
   "outputs": [],
   "source": [
    "phrase_matcher_en.add('EconMatcher', None, *phrase_patterns)"
   ],
   "metadata": {
    "collapsed": false,
    "pycharm": {
     "name": "#%%\n"
    }
   }
  },
  {
   "cell_type": "code",
   "execution_count": 24,
   "outputs": [],
   "source": [
    "found = phrase_matcher_en(doc_economics)"
   ],
   "metadata": {
    "collapsed": false,
    "pycharm": {
     "name": "#%%\n"
    }
   }
  },
  {
   "cell_type": "code",
   "execution_count": 30,
   "outputs": [
    {
     "name": "stdout",
     "output_type": "stream",
     "text": [
      "3680293220734633682 EconMatcher 41 45 associated with supply-side economics, referred to as trickle-down economics or voodoo economics by political opponents,\n",
      "3680293220734633682 EconMatcher 49 53 to as trickle-down economics or voodoo economics by political opponents, and free-market economics by political advocates\n",
      "3680293220734633682 EconMatcher 54 56 economics or voodoo economics by political opponents, and free-market economics by political advocates.\n",
      "\n",
      "The\n",
      "3680293220734633682 EconMatcher 61 65 , and free-market economics by political advocates.\n",
      "\n",
      "The four pillars of Reagan's economic policy were to\n",
      "3680293220734633682 EconMatcher 673 677 from the supply-side economics movement, which formed in opposition to Keynesian demand-stimulus economics. This movement\n",
      "3680293220734633682 EconMatcher 2990 2994 as \"trickle-down economics\", due to the significant cuts in the upper tax brackets, as that\n"
     ]
    }
   ],
   "source": [
    "for match_id, start, end in found:\n",
    "    string_id = nlp_en.vocab.strings[match_id]  # get string representation\n",
    "    #Tokens surrounding the match\n",
    "    span = doc_economics[start - 2:end + 15]                    # get the matched span\n",
    "    print(match_id, string_id, start, end, span.text)\n",
    "\n",
    "\n"
   ],
   "metadata": {
    "collapsed": false,
    "pycharm": {
     "name": "#%%\n"
    }
   }
  }
 ],
 "metadata": {
  "kernelspec": {
   "display_name": "Python 3",
   "language": "python",
   "name": "python3"
  },
  "language_info": {
   "codemirror_mode": {
    "name": "ipython",
    "version": 2
   },
   "file_extension": ".py",
   "mimetype": "text/x-python",
   "name": "python",
   "nbconvert_exporter": "python",
   "pygments_lexer": "ipython2",
   "version": "2.7.6"
  },
  "pycharm": {
   "stem_cell": {
    "cell_type": "raw",
    "source": [
     "# Vocabulary and Matching\n",
     "So far we've seen how a body of text is divided into tokens, and how individual tokens are parsed and tagged with parts of speech, dependencies and lemmas.\n",
     "\n",
     "In this section we will identify and label specific phrases that match patterns we can define ourselves.\n"
    ],
    "metadata": {
     "collapsed": false
    }
   }
  }
 },
 "nbformat": 4,
 "nbformat_minor": 0
}